{
  "nbformat": 4,
  "nbformat_minor": 0,
  "metadata": {
    "colab": {
      "provenance": [],
      "mount_file_id": "1y0QUwWpJUNyrXBds3QkpeRyhUgJ0qQ-G",
      "authorship_tag": "ABX9TyPTV4Apw1kZaZTMhvc28w59",
      "include_colab_link": true
    },
    "kernelspec": {
      "name": "python3",
      "display_name": "Python 3"
    },
    "language_info": {
      "name": "python"
    }
  },
  "cells": [
    {
      "cell_type": "markdown",
      "metadata": {
        "id": "view-in-github",
        "colab_type": "text"
      },
      "source": [
        "<a href=\"https://colab.research.google.com/github/sn0rkmaiden/rnn-practice/blob/main/Vanilla_character_base_LSTM_for_text_generation.ipynb\" target=\"_parent\"><img src=\"https://colab.research.google.com/assets/colab-badge.svg\" alt=\"Open In Colab\"/></a>"
      ]
    },
    {
      "cell_type": "code",
      "source": [
        "!pip install -q unidecode"
      ],
      "metadata": {
        "colab": {
          "base_uri": "https://localhost:8080/"
        },
        "id": "p6slPkPAxAp6",
        "outputId": "1393b6e8-8b44-4809-a1bb-f963d21203d6"
      },
      "execution_count": 1,
      "outputs": [
        {
          "output_type": "stream",
          "name": "stdout",
          "text": [
            "\u001b[?25l     \u001b[90m━━━━━━━━━━━━━━━━━━━━━━━━━━━━━━━━━━━━━━━━\u001b[0m \u001b[32m0.0/235.5 kB\u001b[0m \u001b[31m?\u001b[0m eta \u001b[36m-:--:--\u001b[0m\r\u001b[2K     \u001b[91m━━━━━━━━━━\u001b[0m\u001b[90m╺\u001b[0m\u001b[90m━━━━━━━━━━━━━━━━━━━━━━━━━━━━━\u001b[0m \u001b[32m61.4/235.5 kB\u001b[0m \u001b[31m1.6 MB/s\u001b[0m eta \u001b[36m0:00:01\u001b[0m\r\u001b[2K     \u001b[90m━━━━━━━━━━━━━━━━━━━━━━━━━━━━━━━━━━━━━━━━\u001b[0m \u001b[32m235.5/235.5 kB\u001b[0m \u001b[31m3.4 MB/s\u001b[0m eta \u001b[36m0:00:00\u001b[0m\n",
            "\u001b[?25h"
          ]
        }
      ]
    },
    {
      "cell_type": "code",
      "execution_count": 2,
      "metadata": {
        "id": "hr1HqPHEox6Q"
      },
      "outputs": [],
      "source": [
        "import numpy as np\n",
        "import torch\n",
        "import torch.nn as nn\n",
        "import unidecode\n",
        "import string\n",
        "import random\n",
        "import re\n",
        "import matplotlib\n",
        "import matplotlib.pyplot as plt\n",
        "%matplotlib inline"
      ]
    },
    {
      "cell_type": "code",
      "source": [
        "def sigmoid(x):\n",
        "    \"\"\"Numerically stable version of the logistic sigmoid function\"\"\"\n",
        "    pos_mask = (x >= 0)\n",
        "    neg_mask = (x < 0)\n",
        "    z = np.zeros_like(x)\n",
        "    z[pos_mask] = np.exp(-x[pos_mask])\n",
        "    z[neg_mask] = np.exp(x[neg_mask])\n",
        "    top = np.ones_like(x)\n",
        "    top[neg_mask] = z[neg_mask]\n",
        "    return top / (1 + z)"
      ],
      "metadata": {
        "id": "QgNHVqsoAP6g"
      },
      "execution_count": 3,
      "outputs": []
    },
    {
      "cell_type": "code",
      "source": [
        "device = \"cuda\" if torch.cuda.is_available() else \"cpu\""
      ],
      "metadata": {
        "id": "SQ6XJhICxA78"
      },
      "execution_count": 4,
      "outputs": []
    },
    {
      "cell_type": "code",
      "source": [
        "all_characters = string.printable\n",
        "n_characters = len(all_characters)\n",
        "\n",
        "# file_path=\"/content/drive/MyDrive/shakespeare.txt\"\n",
        "# file_path=\"/content/drive/MyDrive/alice_in_wonderland.txt\"\n",
        "file_path=\"/content/drive/MyDrive/cpp.txt\"\n",
        "\n",
        "data = unidecode.unidecode(open(file_path).read())\n",
        "vocab_size = len(data)\n",
        "print('file_len =', vocab_size)"
      ],
      "metadata": {
        "colab": {
          "base_uri": "https://localhost:8080/"
        },
        "id": "PJXZfnqOxCz9",
        "outputId": "82275058-3753-451f-ff13-0730485097e9"
      },
      "execution_count": 63,
      "outputs": [
        {
          "output_type": "stream",
          "name": "stdout",
          "text": [
            "file_len = 808920\n"
          ]
        }
      ]
    },
    {
      "cell_type": "code",
      "source": [
        "chars = list(set(data))\n",
        "data_size, vocab_size = len(data), len(chars)\n",
        "data_size, vocab_size"
      ],
      "metadata": {
        "colab": {
          "base_uri": "https://localhost:8080/"
        },
        "id": "G2GvwN8zxEV2",
        "outputId": "25375f3e-dc83-40b9-e05a-f924fa5f9877"
      },
      "execution_count": 64,
      "outputs": [
        {
          "output_type": "execute_result",
          "data": {
            "text/plain": [
              "(808920, 97)"
            ]
          },
          "metadata": {},
          "execution_count": 64
        }
      ]
    },
    {
      "cell_type": "code",
      "source": [
        "char_to_ix = { ch:i for i,ch in enumerate(chars) }\n",
        "ix_to_char = { i:ch for i,ch in enumerate(chars) }"
      ],
      "metadata": {
        "id": "jbY7Q536NjAf"
      },
      "execution_count": 65,
      "outputs": []
    },
    {
      "cell_type": "code",
      "source": [
        "chunk_len = 200\n",
        "hidden_size = 100\n",
        "seq_len = 25\n",
        "\n",
        "def random_chunk():\n",
        "    start_index = random.randint(0, data_size - chunk_len)\n",
        "    end_index = start_index + chunk_len + 1\n",
        "    return data[start_index:end_index]\n",
        "\n",
        "print(random_chunk())"
      ],
      "metadata": {
        "colab": {
          "base_uri": "https://localhost:8080/"
        },
        "id": "6pXU0lhhKwgx",
        "outputId": "dba86e46-aa43-4c36-937d-3d929dd79cf2"
      },
      "execution_count": 66,
      "outputs": [
        {
          "output_type": "stream",
          "name": "stdout",
          "text": [
            "\t{\n",
            "\tcase C_ID_ID:\n",
            "\t  return false;\n",
            "\tcase C_ID_ADDRSPACE:\n",
            "\t  return true;\n",
            "\tcase C_ID_TYPENAME:\n",
            "\t  return true;\n",
            "\tcase C_ID_CLASSNAME:\n",
            "\t  gcc_assert (c_dialect_objc ());\n",
            "\t  return true;\n",
            "\tdefault:\n",
            "\t  gcc_u\n"
          ]
        }
      ]
    },
    {
      "cell_type": "code",
      "source": [
        "class LSTM(nn.Module):\n",
        "  def __init__(self, hidden_size, vocab_size):\n",
        "    super(LSTM, self).__init__()\n",
        "    self.hidden = np.zeros((hidden_size, 1))\n",
        "\n",
        "    # self.Wf1 = np.random.randn(hidden_size, vocab_size)\n",
        "    # self.Wf2 = np.random.randn(hidden_size, hidden_size)\n",
        "    # self.bf = np.zeros((hidden_size, 1))\n",
        "\n",
        "    # self.Wi1 = np.random.randn(hidden_size, vocab_size)\n",
        "    # self.Wi2 = np.random.randn(hidden_size, hidden_size)\n",
        "    # self.bi = np.zeros((hidden_size, 1))\n",
        "\n",
        "    # self.Wc1 = np.random.randn(hidden_size, vocab_size)\n",
        "    # self.Wc2 = np.random.randn(hidden_size, hidden_size)\n",
        "    # self.bc = np.zeros((hidden_size, 1))\n",
        "\n",
        "    # self.Wo1 = np.random.randn(hidden_size, vocab_size)\n",
        "    # self.Wo2 = np.random.randn(hidden_size, hidden_size)\n",
        "    # self.bo = np.zeros((hidden_size, 1))\n",
        "\n",
        "    # self.Wy = np.random.randn(vocab_size, hidden_size)\n",
        "    # self.by = np.zeros((vocab_size, 1))\n",
        "\n",
        "    # self.Wx = np.random.randn((vocab_size, 4 * hidden_size))\n",
        "    # self.Wh = np.random.randn((vocab_size, 4 * vocab_size))\n",
        "    # self.b = np.zeros((vocab_size * 4, 1))\n",
        "\n",
        "    self.Wf = np.random.randn(hidden_size, hidden_size + vocab_size) * 0.01\n",
        "    self.bf = np.zeros((hidden_size, 1))\n",
        "    self.Wi = np.random.randn(hidden_size, hidden_size + vocab_size) * 0.01\n",
        "    self.bi = np.zeros((hidden_size, 1))\n",
        "    self.Wcc = np.random.randn(hidden_size, hidden_size + vocab_size) * 0.01\n",
        "    self.bcc = np.zeros((hidden_size, 1))\n",
        "    self.Wo = np.random.randn(hidden_size, hidden_size + vocab_size) * 0.01\n",
        "    self.bo = np.zeros((hidden_size, 1))\n",
        "    self.Wy = np.random.randn(vocab_size, hidden_size) * 0.01\n",
        "    self.by = np.zeros((vocab_size, 1))\n",
        "\n",
        "  def forward(self, x, hprev, cprev):\n",
        "    # forget = sigmoid(np.dot(self.Wf1, x) + np.dot(self.Wf2, hprev) + self.bf)\n",
        "    # input = sigmoid(np.dot(self.Wi1, x) + np.dot(self.Wi2, hprev) + self.bi)\n",
        "    # output = sigmoid(np.dot(self.Wo1, x) + np.dot(self.Wo2, hprev) + self.bo)\n",
        "    # c_hat = sigmoid(np.dot(self.Wc1, x) + np.dot(self.Wc2, hprev) + self.bc)\n",
        "\n",
        "    xh = np.vstack((x, hprev))\n",
        "\n",
        "    forget = sigmoid(np.dot(self.Wf, xh) + self.bf)\n",
        "    input = sigmoid(np.dot(self.Wi, xh) + self.bi)\n",
        "    output = sigmoid(np.dot(self.Wo, xh) + self.bo)\n",
        "    c_hat = np.tanh(np.dot(self.Wcc, xh) + self.bcc)\n",
        "\n",
        "    next_c = forget * cprev + input * c_hat\n",
        "    next_h = output * np.tanh(next_c)\n",
        "\n",
        "    y = np.dot(self.Wy, next_h) + self.by\n",
        "\n",
        "    return next_h, next_c, y, forget, input, output, c_hat\n",
        "\n",
        "  def calculate_probs(self, y):\n",
        "    return np.exp(y) / np.sum(np.exp(y))\n",
        "\n",
        "  def calc_loss(self, inputs, targets, hprev=None, cprev=None):\n",
        "    loss = 0\n",
        "    xs, xhs, ys, ps, hs, cs, fgs, igs, ccs, ogs = (\n",
        "            {}, {}, {}, {}, {}, {}, {}, {}, {}, {})\n",
        "\n",
        "    if hprev is not None:\n",
        "      hs[-1] = np.copy(hprev)\n",
        "\n",
        "    if cprev is not None:\n",
        "      cs[-1] = np.copy(cprev)\n",
        "\n",
        "    for t in range(len(inputs)):\n",
        "      xs[t] = np.zeros((vocab_size, 1))\n",
        "      xs[t][inputs[t]] = 1\n",
        "\n",
        "      xhs[t] = np.vstack((xs[t], hs[t-1]))\n",
        "\n",
        "      hs[t], cs[t], ys[t], fgs[t], igs[t], ogs[t], ccs[t] = self.forward(xs[t], hs[t-1], cs[t-1])\n",
        "      ps[t] = self.calculate_probs(ys[t])\n",
        "\n",
        "      loss += -np.log(ps[t][targets[t], 0])\n",
        "\n",
        "    return loss, hs[len(inputs)-1], cs[len(inputs)-1], xs, xhs, hs, cs, ps, fgs, igs, ogs, ccs\n",
        "\n",
        "  def backward(self, inputs, targets, xs, xhs, hs, ps, cs, fgs, igs, ogs, ccs):\n",
        "    dWf = np.zeros((hidden_size, hidden_size + vocab_size))\n",
        "    dbf = np.zeros_like(self.bf)\n",
        "    dWi = np.zeros((hidden_size, hidden_size + vocab_size))\n",
        "    dbi = np.zeros_like(self.bi)\n",
        "    dWcc = np.zeros((hidden_size, hidden_size + vocab_size))\n",
        "    dbcc = np.zeros_like(self.bcc)\n",
        "    dWo = np.zeros((hidden_size, hidden_size + vocab_size))\n",
        "    dbo = np.zeros_like(self.bo)\n",
        "    dWy = np.zeros_like(self.Wy)\n",
        "    dby = np.zeros_like(self.by)\n",
        "\n",
        "    dhnext = np.zeros_like(hs[0])\n",
        "    dcnext = np.zeros_like(cs[0])\n",
        "\n",
        "    for t in reversed(range(len(inputs))):\n",
        "      # Backprop through the gradients of loss and softmax.\n",
        "        dy = np.copy(ps[t])\n",
        "        dy[targets[t]] -= 1\n",
        "\n",
        "        # Compute gradients for the Wy and by parameters.\n",
        "        dWy += np.dot(dy, hs[t].T)\n",
        "        dby += dy\n",
        "\n",
        "        # Backprop through the fully-connected layer (Wy, by) to h. Also add up\n",
        "        # the incoming gradient for h from the next cell.\n",
        "        dh = np.dot(self.Wy.T, dy) + dhnext\n",
        "\n",
        "        # Backprop through multiplication with output gate; here \"dtanh\" means\n",
        "        # the gradient at the output of tanh.\n",
        "        dctanh = ogs[t] * dh\n",
        "        # Backprop through the tanh function; since cs[t] branches in two\n",
        "        # directions we add dcnext too.\n",
        "        dc = dctanh * (1 - np.tanh(cs[t]) ** 2) + dcnext\n",
        "\n",
        "        # Backprop through multiplication with the tanh; here \"dhogs\" means\n",
        "        # the gradient at the output of the sigmoid of the output gate. Then\n",
        "        # backprop through the sigmoid itself (ogs[t] is the sigmoid output).\n",
        "        dhogs = dh * np.tanh(cs[t])\n",
        "        dho = dhogs * ogs[t] * (1 - ogs[t])\n",
        "\n",
        "        # Compute gradients for the output gate parameters.\n",
        "        dWo += np.dot(dho, xhs[t].T)\n",
        "        dbo += dho\n",
        "\n",
        "        # Backprop dho to the xh input.\n",
        "        dxh_from_o = np.dot(self.Wo.T, dho)\n",
        "\n",
        "        # Backprop through the forget gate: sigmoid and elementwise mul.\n",
        "        dhf = cs[t-1] * dc * fgs[t] * (1 - fgs[t])\n",
        "        dWf += np.dot(dhf, xhs[t].T)\n",
        "        dbf += dhf\n",
        "        dxh_from_f = np.dot(self.Wf.T, dhf)\n",
        "\n",
        "        # Backprop through the input gate: sigmoid and elementwise mul.\n",
        "        dhi = ccs[t] * dc * igs[t] * (1 - igs[t])\n",
        "        dWi += np.dot(dhi, xhs[t].T)\n",
        "        dbi += dhi\n",
        "        dxh_from_i = np.dot(self.Wi.T, dhi)\n",
        "\n",
        "        dhcc = igs[t] * dc * (1 - ccs[t] ** 2)\n",
        "        dWcc += np.dot(dhcc, xhs[t].T)\n",
        "        dbcc += dhcc\n",
        "        dxh_from_cc = np.dot(self.Wcc.T, dhcc)\n",
        "\n",
        "        # Combine all contributions to dxh, and extract the gradient for the\n",
        "        # h part to propagate backwards as dhnext.\n",
        "        dxh = dxh_from_o + dxh_from_f + dxh_from_i + dxh_from_cc\n",
        "        dhnext = dxh[vocab_size:, :]\n",
        "\n",
        "        # dcnext from dc and the forget gate.\n",
        "        dcnext = fgs[t] * dc\n",
        "\n",
        "    # Gradient clipping to the range [-5, 5].\n",
        "    for dparam in [dWf, dbf, dWi, dbi, dWcc, dbcc, dWo, dbo, dWy, dby]:\n",
        "        np.clip(dparam, -5, 5, out=dparam)\n",
        "\n",
        "    return dWf, dbf, dWi, dbi, dWcc, dbcc, dWo, dbo, dWy, dby"
      ],
      "metadata": {
        "id": "H0z7csJlxUoA"
      },
      "execution_count": 67,
      "outputs": []
    },
    {
      "cell_type": "code",
      "source": [
        "model = LSTM(hidden_size, vocab_size)"
      ],
      "metadata": {
        "id": "nAqsc1Ot87ED"
      },
      "execution_count": 68,
      "outputs": []
    },
    {
      "cell_type": "code",
      "source": [
        "input = np.zeros((vocab_size, 1))\n",
        "h = np.random.randn(hidden_size, 1)\n",
        "c = np.random.randn(hidden_size, 1)\n",
        "\n",
        "print(input.shape, h.shape, c.shape)\n",
        "\n",
        "next_h, next_c, y, forget, input, output, c_hat = model.forward(input, h, c)\n",
        "next_h.shape, next_c.shape, y.shape"
      ],
      "metadata": {
        "colab": {
          "base_uri": "https://localhost:8080/"
        },
        "id": "sU-REw1C-nuE",
        "outputId": "9a7bca83-0417-4921-faef-73b823573294"
      },
      "execution_count": 69,
      "outputs": [
        {
          "output_type": "stream",
          "name": "stdout",
          "text": [
            "(97, 1) (100, 1) (100, 1)\n"
          ]
        },
        {
          "output_type": "execute_result",
          "data": {
            "text/plain": [
              "((100, 1), (100, 1), (97, 1))"
            ]
          },
          "metadata": {},
          "execution_count": 69
        }
      ]
    },
    {
      "cell_type": "code",
      "source": [
        "n, p = 0, 0\n",
        "epochs = 5000 * 2\n",
        "learning_rate = 1e-1\n",
        "smooth_loss = -np.log(1.0 / vocab_size) * seq_len # loss at iteration 0\n",
        "\n",
        "losses = []\n",
        "\n",
        "# memory variables for Adagrad\n",
        "mWf, mWi, mWo, mWc, mWy = np.zeros_like(model.Wf), np.zeros_like(model.Wi), np.zeros_like(model.Wo), np.zeros_like(model.Wcc), np.zeros_like(model.Wy)\n",
        "mbf, mbi, mbo, mbc, mby = np.zeros_like(model.bf), np.zeros_like(model.bi), np.zeros_like(model.bo), np.zeros_like(model.bcc), np.zeros_like(model.by)\n",
        "\n",
        "for i in range(epochs):\n",
        "\n",
        "  if p + seq_len + 1 >= len(data) or i == 0:\n",
        "    hprev = np.zeros((hidden_size, 1)) # reset RNN memory\n",
        "    cprev = np.zeros((hidden_size, 1))\n",
        "    p = 0 # go from start of data\n",
        "\n",
        "  inputs = [char_to_ix[ch] for ch in data[p:p + seq_len]]\n",
        "  targets = [char_to_ix[ch] for ch in data[p + 1 : p + seq_len + 1]]\n",
        "\n",
        "  loss, hprev, cprev, xs, xhs, hs, cs, ps, fgs, igs, ogs, ccs = model.calc_loss(inputs, targets, hprev, cprev)\n",
        "  dWf, dbf, dWi, dbi, dWcc, dbcc, dWo, dbo, dWy, dby = model.backward(inputs, targets, xs, xhs, hs, ps, cs, fgs, igs, ogs, ccs)\n",
        "  # print(loss)\n",
        "  smooth_loss = smooth_loss * 0.999 + loss * 0.001\n",
        "  if i % 500 == 0:\n",
        "    print('iter %d, loss: %f' % (i, smooth_loss)) # print progress\n",
        "    losses.append(smooth_loss)\n",
        "  # if i % 1000 == 0: print('iter %d' % i) # print progress\n",
        "\n",
        "  for param, dparam, mem in zip([model.Wf, model.Wi, model.Wo, model.Wcc, model.Wy, model.bf, model.bi, model.bo, model.bcc, model.by],\n",
        "                                [dWf, dWi, dWo, dWcc, dWy, dbf, dbi, dbo, dbcc, dby],\n",
        "                                [mWf, mWi, mWo, mWc, mWy, mbf, mbi, mbo, mbc, mby]):\n",
        "    mem += dparam * dparam\n",
        "    param += -learning_rate * dparam / np.sqrt(mem + 1e-8) # adagrad update\n",
        "\n",
        "  p += seq_len"
      ],
      "metadata": {
        "id": "bJ6pNgl0AEF2",
        "colab": {
          "base_uri": "https://localhost:8080/"
        },
        "outputId": "f1bdf1c9-eba1-42ef-b54d-0607110ca601"
      },
      "execution_count": 76,
      "outputs": [
        {
          "output_type": "stream",
          "name": "stdout",
          "text": [
            "iter 0, loss: 114.294668\n",
            "iter 500, loss: 87.171812\n",
            "iter 1000, loss: 64.273413\n",
            "iter 1500, loss: 52.422641\n",
            "iter 2000, loss: 43.803652\n",
            "iter 2500, loss: 37.661938\n",
            "iter 3000, loss: 36.470085\n",
            "iter 3500, loss: 32.566457\n",
            "iter 4000, loss: 31.829932\n",
            "iter 4500, loss: 30.927084\n",
            "iter 5000, loss: 28.977739\n",
            "iter 5500, loss: 27.007729\n",
            "iter 6000, loss: 26.968245\n",
            "iter 6500, loss: 24.885138\n",
            "iter 7000, loss: 24.378895\n",
            "iter 7500, loss: 24.199810\n",
            "iter 8000, loss: 25.313021\n",
            "iter 8500, loss: 28.877450\n",
            "iter 9000, loss: 28.243340\n",
            "iter 9500, loss: 26.135400\n"
          ]
        }
      ]
    },
    {
      "cell_type": "code",
      "source": [
        "plt.plot(losses)\n",
        "plt.show()"
      ],
      "metadata": {
        "colab": {
          "base_uri": "https://localhost:8080/",
          "height": 430
        },
        "id": "PZEGB1mckwLy",
        "outputId": "39861b61-e69c-468a-ed59-8622228725b0"
      },
      "execution_count": 77,
      "outputs": [
        {
          "output_type": "display_data",
          "data": {
            "text/plain": [
              "<Figure size 640x480 with 1 Axes>"
            ],
            "image/png": "[encoded data removed]"
          },
          "metadata": {}
        }
      ]
    },
    {
      "cell_type": "code",
      "source": [
        "def sample_chars(hidden_state, cell_state, seed_idx, num_seq):\n",
        "      \"\"\"Sample a sequence of characters from the current model, this is primarily used for test time\"\"\"\n",
        "      x = np.zeros((vocab_size, 1))\n",
        "      x[seed_idx] = 1\n",
        "      indices = []\n",
        "      for _ in range(num_seq):\n",
        "          next_h, next_c, y, forget, input, output, c_hat = model(x, hidden_state, cell_state)\n",
        "          prob = model.calculate_probs(y)\n",
        "          idx = np.random.choice(range(vocab_size), p=prob.ravel())  # ravel() flattens the matrix\n",
        "          x = np.zeros((vocab_size, 1))\n",
        "          x[idx] = 1\n",
        "          indices.append(idx)\n",
        "\n",
        "      return hidden_state, indices"
      ],
      "metadata": {
        "id": "z2KhOZ8wKBPV"
      },
      "execution_count": 78,
      "outputs": []
    },
    {
      "cell_type": "code",
      "source": [
        "letter = '-'\n",
        "hidden_state = np.zeros((hidden_size, 1))\n",
        "cell_state = np.zeros((hidden_size, 1))\n",
        "_, sampled_indices = sample_chars(hprev, cprev, char_to_ix[letter], 500)\n",
        "predicted_text = ''.join(ix_to_char[idx] for idx in sampled_indices)\n",
        "print(\"-------------\\n%s\\n-------------\" % predicted_text)"
      ],
      "metadata": {
        "colab": {
          "base_uri": "https://localhost:8080/"
        },
        "id": "HvNts0daKGP-",
        "outputId": "8eefe7ac-9370-4f77-c6ce-33bfe83dee5c"
      },
      "execution_count": 85,
      "outputs": [
        {
          "output_type": "stream",
          "name": "stdout",
          "text": [
            "-------------\n",
            "biopediocioco\n",
            "\t-a'temeated-igusize-at, %<t agu\n",
            " ifio\n",
            " ioumedebed-sivaum-it %%\")\n",
            " at idaubioro Otitedio_te_(-bio_o n diorured ted%%_iotint-aut, oiiotio io\n",
            " %o\n",
            " teeno atredaut_o teme\n",
            " e3 p_bute, agedio te auifivo u%usio_sum-s), wi\")\n",
            " ay at%-u se_tes tagute, o bicop_tedifiooibe\n",
            " ted dagu_ iouze, te\" ag. afioum-atio\n",
            "\t teduau io_owaly\"), h-diooiS. = aninioprifior-s, t msiage %] Obed_o bio\n",
            ",\n",
            " ioulio fio\", tio (, ifiou\n",
            "{-lio_oriteme (sime. (dio\n",
            " afifio\n",
            " it%> = tiotrenum-ate anoly_at:\n",
            "\t%<iomu wiibio_ola\n",
            "-------------\n"
          ]
        }
      ]
    },
    {
      "cell_type": "code",
      "source": [],
      "metadata": {
        "id": "Dd_hrgvUK7kL"
      },
      "execution_count": 73,
      "outputs": []
    }
  ]
}
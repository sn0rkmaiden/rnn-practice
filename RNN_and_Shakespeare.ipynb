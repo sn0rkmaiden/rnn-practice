{
  "nbformat": 4,
  "nbformat_minor": 0,
  "metadata": {
    "colab": {
      "provenance": [],
      "mount_file_id": "1zlh10RqGCt_N-CRnPRXpBdm5KC1ThXbZ",
      "authorship_tag": "ABX9TyNR3im9u75AdG58QtZCxDxZ",
      "include_colab_link": true
    },
    "kernelspec": {
      "name": "python3",
      "display_name": "Python 3"
    },
    "language_info": {
      "name": "python"
    }
  },
  "cells": [
    {
      "cell_type": "markdown",
      "metadata": {
        "id": "view-in-github",
        "colab_type": "text"
      },
      "source": [
        "<a href=\"https://colab.research.google.com/github/sn0rkmaiden/rnn-practice/blob/main/RNN_and_Shakespeare.ipynb\" target=\"_parent\"><img src=\"https://colab.research.google.com/assets/colab-badge.svg\" alt=\"Open In Colab\"/></a>"
      ]
    },
    {
      "cell_type": "code",
      "source": [
        "!pip install -q unidecode"
      ],
      "metadata": {
        "colab": {
          "base_uri": "https://localhost:8080/"
        },
        "id": "T8XOzdqJKjl2",
        "outputId": "d9f5b8f0-cbad-480c-c064-6726c614e844"
      },
      "execution_count": 1,
      "outputs": [
        {
          "output_type": "stream",
          "name": "stdout",
          "text": [
            "\u001b[?25l     \u001b[90m━━━━━━━━━━━━━━━━━━━━━━━━━━━━━━━━━━━━━━━━\u001b[0m \u001b[32m0.0/235.5 kB\u001b[0m \u001b[31m?\u001b[0m eta \u001b[36m-:--:--\u001b[0m\r\u001b[2K     \u001b[91m━━━━━\u001b[0m\u001b[90m╺\u001b[0m\u001b[90m━━━━━━━━━━━━━━━━━━━━━━━━━━━━━━━━━━\u001b[0m \u001b[32m30.7/235.5 kB\u001b[0m \u001b[31m1.0 MB/s\u001b[0m eta \u001b[36m0:00:01\u001b[0m\r\u001b[2K     \u001b[91m━━━━━━━━━━━━━━━\u001b[0m\u001b[91m╸\u001b[0m\u001b[90m━━━━━━━━━━━━━━━━━━━━━━━━\u001b[0m \u001b[32m92.2/235.5 kB\u001b[0m \u001b[31m1.2 MB/s\u001b[0m eta \u001b[36m0:00:01\u001b[0m\r\u001b[2K     \u001b[91m━━━━━━━━━━━━━━━━━━━━━━━━━━━━━━━━━━━━━━\u001b[0m\u001b[90m╺\u001b[0m\u001b[90m━\u001b[0m \u001b[32m225.3/235.5 kB\u001b[0m \u001b[31m2.1 MB/s\u001b[0m eta \u001b[36m0:00:01\u001b[0m\r\u001b[2K     \u001b[90m━━━━━━━━━━━━━━━━━━━━━━━━━━━━━━━━━━━━━━━━\u001b[0m \u001b[32m235.5/235.5 kB\u001b[0m \u001b[31m1.9 MB/s\u001b[0m eta \u001b[36m0:00:00\u001b[0m\n",
            "\u001b[?25h"
          ]
        }
      ]
    },
    {
      "cell_type": "code",
      "source": [
        "import numpy as np\n",
        "import torch\n",
        "import torch.nn as nn\n",
        "import unidecode\n",
        "import string\n",
        "import random\n",
        "import re\n",
        "import matplotlib\n",
        "import matplotlib.pyplot as plt\n",
        "%matplotlib inline"
      ],
      "metadata": {
        "id": "9ZrCGK89LGkn"
      },
      "execution_count": 2,
      "outputs": []
    },
    {
      "cell_type": "code",
      "source": [
        "device = \"cuda\" if torch.cuda.is_available() else \"cpu\""
      ],
      "metadata": {
        "id": "hFxKfoaJPLsQ"
      },
      "execution_count": 3,
      "outputs": []
    },
    {
      "cell_type": "code",
      "execution_count": 24,
      "metadata": {
        "colab": {
          "base_uri": "https://localhost:8080/"
        },
        "id": "T3O9qWQPIwl6",
        "outputId": "b2871acc-84e9-476b-c6c3-99f3ef063533"
      },
      "outputs": [
        {
          "output_type": "stream",
          "name": "stdout",
          "text": [
            "file_len = 808920\n"
          ]
        }
      ],
      "source": [
        "all_characters = string.printable\n",
        "n_characters = len(all_characters)\n",
        "\n",
        "# file_path=\"/content/drive/MyDrive/shakespeare.txt\"\n",
        "# file_path=\"/content/drive/MyDrive/alice_in_wonderland.txt\"\n",
        "file_path=\"/content/drive/MyDrive/cpp.txt\"\n",
        "\n",
        "data = unidecode.unidecode(open(file_path).read())\n",
        "vocab_size = len(data)\n",
        "print('file_len =', vocab_size)"
      ]
    },
    {
      "cell_type": "code",
      "source": [
        "chars = sorted(list(set(data)))\n",
        "\n",
        "bad_chars = ['#', '*', '@', '_', '\\ufeff']\n",
        "for i in range(len(bad_chars)):\n",
        "    data = data.replace(bad_chars[i], \"\")\n",
        "\n",
        "chars = list(set(data))"
      ],
      "metadata": {
        "id": "vIgWUK3QY51k"
      },
      "execution_count": 8,
      "outputs": []
    },
    {
      "cell_type": "code",
      "source": [
        "chars = list(set(data))\n",
        "data_size, vocab_size = len(data), len(chars)\n",
        "data_size, vocab_size"
      ],
      "metadata": {
        "colab": {
          "base_uri": "https://localhost:8080/"
        },
        "id": "p4Emp2FxNQb5",
        "outputId": "75fcacb2-ed41-41f4-9e3c-63db67ba24a5"
      },
      "execution_count": 25,
      "outputs": [
        {
          "output_type": "execute_result",
          "data": {
            "text/plain": [
              "(808920, 97)"
            ]
          },
          "metadata": {},
          "execution_count": 25
        }
      ]
    },
    {
      "cell_type": "code",
      "source": [
        "char_to_ix = { ch:i for i,ch in enumerate(chars) }\n",
        "ix_to_char = { i:ch for i,ch in enumerate(chars) }"
      ],
      "metadata": {
        "id": "jbY7Q536NjAf"
      },
      "execution_count": 26,
      "outputs": []
    },
    {
      "cell_type": "code",
      "source": [
        "chunk_len = 200\n",
        "hidden_size = 100\n",
        "seq_len = 25\n",
        "\n",
        "def random_chunk():\n",
        "    start_index = random.randint(0, data_size - chunk_len)\n",
        "    end_index = start_index + chunk_len + 1\n",
        "    return data[start_index:end_index]\n",
        "\n",
        "print(random_chunk())"
      ],
      "metadata": {
        "colab": {
          "base_uri": "https://localhost:8080/"
        },
        "id": "6pXU0lhhKwgx",
        "outputId": "5ad946b6-5be6-4b2c-e4d6-0f38fd39e4c1"
      },
      "execution_count": 27,
      "outputs": [
        {
          "output_type": "stream",
          "name": "stdout",
          "text": [
            "pr.value = c_build_function_call_vec (loc, arg_loc, fndecl,\n",
            "\t\t\t\t\t\t    args, origtypes);\n",
            "\t    set_c_expr_source_range (&expr, loc, close_paren_loc);\n",
            "\t    if (expr.value == error_mark_node)\n",
            "\t      break;\n"
          ]
        }
      ]
    },
    {
      "cell_type": "markdown",
      "source": [
        "**Backprop and code:**\n",
        "\n",
        "1.   https://eli.thegreenplace.net/2016/the-softmax-function-and-its-derivative/\n",
        "2.   https://mkffl.github.io/2019/07/08/minimalist-RNN.html\n",
        "\n",
        "\n",
        "\n",
        "\n"
      ],
      "metadata": {
        "id": "51MiRUIKPpCV"
      }
    },
    {
      "cell_type": "code",
      "source": [
        "class RNN(nn.Module):\n",
        "  def __init__(self, hidden_size, vocab_size):\n",
        "    super(RNN, self).__init__()\n",
        "    self.hidden = np.zeros((hidden_size, 1))\n",
        "    self.Whh = np.random.randn(hidden_size, hidden_size) * 0.01\n",
        "    self.Wxh = np.random.randn(hidden_size, vocab_size) * 0.01\n",
        "    self.Why = np.random.randn(vocab_size, hidden_size) * 0.01\n",
        "    self.bh = np.zeros((hidden_size, 1))\n",
        "    self.by = np.zeros((vocab_size, 1))\n",
        "\n",
        "  def forward(self, x, hprev):\n",
        "    hidden = np.tanh(np.dot(self.Whh, hprev) + np.dot(self.Wxh, x) + self.bh)\n",
        "    y = np.dot(self.Why, hidden) + self.by\n",
        "    return hidden, y\n",
        "\n",
        "  def calculate_probs(self, y):\n",
        "    return np.exp(y) / np.sum(np.exp(y))\n",
        "\n",
        "  def calc_loss(self, inputs, targets, hprev=None):\n",
        "    loss = 0\n",
        "    xs, hs, ys, ps = {}, {}, {}, {}\n",
        "    hs[-1] = np.zeros((hidden_size, 1))\n",
        "    if hprev is not None:\n",
        "      hs[-1] = np.copy(hprev)\n",
        "\n",
        "    for t in range(len(inputs)):\n",
        "      xs[t] = np.zeros((vocab_size, 1))\n",
        "      xs[t][inputs[t]] = 1\n",
        "      hs[t], ys[t] = self.forward(xs[t], hs[t-1])\n",
        "      ps[t] = self.calculate_probs(ys[t])\n",
        "      loss += -np.log(ps[t][targets[t]][0])\n",
        "\n",
        "    return loss, hs[len(inputs) - 1], xs, hs, ps\n",
        "\n",
        "  def backward(self, inputs, targets, xs, hs, ps):\n",
        "    dWxh, dWhh, dWhy = np.zeros_like(self.Wxh), np.zeros_like(self.Whh), np.zeros_like(self.Why)\n",
        "    dbh, dby = np.zeros_like(self.bh), np.zeros_like(self.by)\n",
        "    dhnext = np.zeros_like(hs[0])\n",
        "\n",
        "    for t in reversed(range(len(inputs))):\n",
        "      dy = np.copy(ps[t])\n",
        "      dy[targets[t]] -= 1 # softmax loss\n",
        "\n",
        "      dWhy += np.dot(dy, hs[t].T)\n",
        "      dby += dy\n",
        "      dh = np.dot(self.Why.T, dy) + dhnext\n",
        "      dhraw = (1 - hs[t] * hs[t]) * dh\n",
        "      dbh += dhraw\n",
        "      dWxh += np.dot(dhraw, xs[t].T)\n",
        "      dWhh += np.dot(dhraw, hs[t-1].T)\n",
        "      dhnext = np.dot(self.Whh.T, dhraw)\n",
        "      for dparam in [dWxh, dWhh, dWhy, dbh, dby]:\n",
        "        np.clip(dparam, -5, 5, out=dparam) # clip to mitigate exploding gradients\n",
        "\n",
        "    return dWxh, dWhh, dWhy, dbh, dby"
      ],
      "metadata": {
        "id": "m2ylDTmrK9jv"
      },
      "execution_count": 28,
      "outputs": []
    },
    {
      "cell_type": "code",
      "source": [
        "model = RNN(hidden_size, vocab_size).to(device)"
      ],
      "metadata": {
        "id": "GSX3vT6e_jzJ"
      },
      "execution_count": 29,
      "outputs": []
    },
    {
      "cell_type": "code",
      "source": [
        "n, p = 0, 0\n",
        "epochs = 5000 * 2\n",
        "learning_rate = 1e-1\n",
        "smooth_loss = -np.log(1.0 / vocab_size) * seq_len # loss at iteration 0\n",
        "\n",
        "losses = []\n",
        "\n",
        "mWxh, mWhh, mWhy = np.zeros_like(model.Wxh), np.zeros_like(model.Whh), np.zeros_like(model.Why)\n",
        "mbh, mby = np.zeros_like(model.bh), np.zeros_like(model.by) # memory variables for Adagrad\n",
        "\n",
        "for i in range(epochs):\n",
        "\n",
        "  if p + seq_len + 1 >= len(data) or i == 0:\n",
        "    hprev = np.zeros((hidden_size,1)) # reset RNN memory\n",
        "    p = 0 # go from start of data\n",
        "\n",
        "  inputs = [char_to_ix[ch] for ch in data[p:p + seq_len]]\n",
        "  targets = [char_to_ix[ch] for ch in data[p + 1 : p + seq_len + 1]]\n",
        "\n",
        "  loss, hprev, xs, hs, ps = model.calc_loss(inputs, targets, hprev)\n",
        "  dWxh, dWhh, dWhy, dbh, dby = model.backward(inputs, targets, xs, hs, ps)\n",
        "  # print(loss)\n",
        "  smooth_loss = smooth_loss * 0.999 + loss * 0.001\n",
        "  if i % 100 == 0:\n",
        "    # print('iter %d, loss: %f' % (i, smooth_loss)) # print progress\n",
        "    losses.append(smooth_loss)\n",
        "  if i % 1000 == 0: print('iter %d' % i) # print progress\n",
        "\n",
        "  for param, dparam, mem in zip([model.Wxh, model.Whh, model.Why, model.bh, model.by],\n",
        "                                [dWxh, dWhh, dWhy, dbh, dby],\n",
        "                                [mWxh, mWhh, mWhy, mbh, mby]):\n",
        "    mem += dparam * dparam\n",
        "    param += -learning_rate * dparam / np.sqrt(mem + 1e-8) # adagrad update\n",
        "\n",
        "  p += seq_len"
      ],
      "metadata": {
        "colab": {
          "base_uri": "https://localhost:8080/"
        },
        "id": "VPpc9sRhFaV1",
        "outputId": "86259369-1cc1-41be-d3d2-70b4ddd52d08"
      },
      "execution_count": 30,
      "outputs": [
        {
          "output_type": "stream",
          "name": "stdout",
          "text": [
            "iter 0\n",
            "iter 1000\n",
            "iter 2000\n",
            "iter 3000\n",
            "iter 4000\n",
            "iter 5000\n",
            "iter 6000\n",
            "iter 7000\n",
            "iter 8000\n",
            "iter 9000\n"
          ]
        }
      ]
    },
    {
      "cell_type": "code",
      "source": [
        "plt.plot(losses)\n",
        "plt.show()"
      ],
      "metadata": {
        "colab": {
          "base_uri": "https://localhost:8080/",
          "height": 430
        },
        "id": "L6Bt3LtPsVRO",
        "outputId": "4f446f5b-4031-48df-a0f8-4c0baba5ac11"
      },
      "execution_count": 31,
      "outputs": [
        {
          "output_type": "display_data",
          "data": {
            "text/plain": [
              "<Figure size 640x480 with 1 Axes>"
            ],
            "image/png": "[encoded data removed]"
          },
          "metadata": {}
        }
      ]
    },
    {
      "cell_type": "code",
      "source": [
        "def sample_chars(hidden_state, seed_idx, num_seq):\n",
        "      \"\"\"Sample a sequence of characters from the current model, this is primarily used for test time\"\"\"\n",
        "      x = np.zeros((vocab_size, 1))\n",
        "      x[seed_idx] = 1\n",
        "      indices = []\n",
        "      for _ in range(num_seq):\n",
        "          # hidden_state = tanh(dot(self.params['Wxh'], x) + dot(self.params['Whh'], hidden_state) + self.params['Bh'])\n",
        "          # output = dot(self.params['Why'], hidden_state) + self.params['By']\n",
        "          hidden_state, output = model(x, hidden_state)\n",
        "          # prob = exp(output) / np.sum(exp(output))\n",
        "          prob = model.calculate_probs(output)\n",
        "          idx = np.random.choice(range(vocab_size), p=prob.ravel())  # ravel() flattens the matrix\n",
        "          x = np.zeros((vocab_size, 1))\n",
        "          x[idx] = 1\n",
        "          indices.append(idx)\n",
        "\n",
        "      return hidden_state, indices"
      ],
      "metadata": {
        "id": "07SRqwuC2NP_"
      },
      "execution_count": 33,
      "outputs": []
    },
    {
      "cell_type": "code",
      "source": [
        "letter = '#'\n",
        "hidden_state = np.zeros_like((hidden_size, 1))\n",
        "_, sampled_indices = sample_chars(hprev, char_to_ix[letter], 500)\n",
        "predicted_text = ''.join(ix_to_char[idx] for idx in sampled_indices)\n",
        "print(\"-------------\\n%s\\n-------------\" % predicted_text)"
      ],
      "metadata": {
        "colab": {
          "base_uri": "https://localhost:8080/"
        },
        "id": "mfN8BVuD1dIM",
        "outputId": "291c5e15-3444-4a24-bbbc-0af9030a45df"
      },
      "execution_count": 36,
      "outputs": [
        {
          "output_type": "stream",
          "name": "stdout",
          "text": [
            "-------------\n",
            "rengien (parser, CqSIiex\n",
            "  i- ebtign,\n",
            " wh atiter_lee  nex;\n",
            "{\n",
            "  se\n",
            "\t\t  if (laration (tqulc_lordatisemt);\n",
            "    c_parser_lon_token'tr, tre (parser);\n",
            "  if (pre:\n",
            "\n",
            " }\n",
            "\n",
            "   dec_e bwol (xpemonins,\n",
            "}\n",
            "\n",
            "  = sterd brer_tutes (trse_loc_ool_arde), aplr_exkent_parser, ersion (da thed aldec if (^peepwespexp__loc, tyty st_cd_acd_bols Cppoc_Fola_tome rinils altrst_wy)\n",
            "  }\n",
            "   attnobenind lokons_war atinect_vecstst_pelndtalat\n",
            "    faUso [ok_t_tregte_lidqolw*;\n",
            "\t{\n",
            "\t  brec_coc_extbuc)->ifsumeme in+-token (saif_tifiund_sm\n",
            "-------------\n"
          ]
        }
      ]
    },
    {
      "cell_type": "code",
      "source": [],
      "metadata": {
        "id": "EPIFguP23xVV"
      },
      "execution_count": null,
      "outputs": []
    }
  ]
}